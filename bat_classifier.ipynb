{
  "nbformat": 4,
  "nbformat_minor": 0,
  "metadata": {
    "colab": {
      "name": "bat_classifier.ipynb",
      "provenance": [],
      "toc_visible": true
    },
    "kernelspec": {
      "name": "python3",
      "display_name": "Python 3"
    },
    "language_info": {
      "name": "python"
    }
  },
  "cells": [
    {
      "cell_type": "markdown",
      "metadata": {
        "id": "aVJnkvmvNcI4"
      },
      "source": [
        "# Bat Classifier "
      ]
    },
    {
      "cell_type": "markdown",
      "metadata": {
        "id": "pvvJ1QZZNx7j"
      },
      "source": [
        "This notebook create an app that can classify images of cricket bat, baseball bat & table tennis bat."
      ]
    },
    {
      "cell_type": "code",
      "metadata": {
        "id": "o0Lh9TdyIWNx"
      },
      "source": [
        "# Import packages\n",
        "from fastai import *\n",
        "from fastai.vision.all import *\n",
        "from fastai.vision.widgets import *\n",
        "\n",
        "import warnings\n",
        "warnings.filterwarnings('ignore')"
      ],
      "execution_count": null,
      "outputs": []
    },
    {
      "cell_type": "code",
      "metadata": {
        "id": "EBqDuIwmViIP"
      },
      "source": [
        "# Load the model\n",
        "model = load_learner(\"export.pkl\")"
      ],
      "execution_count": null,
      "outputs": []
    },
    {
      "cell_type": "code",
      "metadata": {
        "id": "qYPIqikRVi7j"
      },
      "source": [
        "# Create an upload button\n",
        "upload_btn = widgets.FileUpload()"
      ],
      "execution_count": null,
      "outputs": []
    },
    {
      "cell_type": "code",
      "metadata": {
        "id": "OCQU6CIuVppJ"
      },
      "source": [
        "# Create a widget to display the output\n",
        "out_pl = widgets.Output()"
      ],
      "execution_count": null,
      "outputs": []
    },
    {
      "cell_type": "code",
      "metadata": {
        "id": "wVsQBfq74I4N"
      },
      "source": [
        "# Define a label to log the output to\n",
        "lbl_pred = widgets.Label()"
      ],
      "execution_count": null,
      "outputs": []
    },
    {
      "cell_type": "code",
      "metadata": {
        "id": "ehOf8iPj4I1o"
      },
      "source": [
        "# Define a button which will classify on being clicked\n",
        "btn_run = widgets.Button(description='Classify')"
      ],
      "execution_count": null,
      "outputs": []
    },
    {
      "cell_type": "code",
      "metadata": {
        "id": "xCyifkmw4Iy1"
      },
      "source": [
        "def on_click_classify(change):\n",
        "    # Create an image out of the uploaded content\n",
        "    img = PILImage.create(upload_btn.data[-1])\n",
        "    \n",
        "    # Clear the output associated with output widget\n",
        "    out_pl.clear_output()\n",
        "    \n",
        "    # Display the image in the outpt widget\n",
        "    with out_pl: display(img.to_thumb(128,128))\n",
        "        \n",
        "    # Make a prediction\n",
        "    pred,pred_idx,probs = model.predict(img)\n",
        "    \n",
        "    # Show the prediction on the label\n",
        "    lbl_pred.value = f'Prediction: {pred}; Probability: {probs[pred_idx]:.04f}'\n",
        "\n",
        "btn_run.on_click(on_click_classify)"
      ],
      "execution_count": null,
      "outputs": []
    },
    {
      "cell_type": "code",
      "metadata": {
        "id": "gSONKOEv4Oxo"
      },
      "source": [
        "# Arrange your widgets in a nice stru\n",
        "VBox([widgets.Label('Select your cartoon!'), \n",
        "      upload_btn, btn_run, out_pl, lbl_pred])"
      ],
      "execution_count": null,
      "outputs": []
    }
  ]
}